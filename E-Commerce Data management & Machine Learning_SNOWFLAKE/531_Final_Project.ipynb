{
 "cells": [
  {
   "cell_type": "markdown",
   "id": "ac5ab40e-cb9f-48e4-a097-500b5676545a",
   "metadata": {},
   "source": [
    "### Install & Import Required Libraries"
   ]
  },
  {
   "cell_type": "code",
   "execution_count": 2,
   "id": "ac9171eb-6870-4f63-8dd2-e3777cd04d29",
   "metadata": {},
   "outputs": [],
   "source": [
    "#!pip install snowflake-connector-python pandas snowflake-sqlalchemy mlxtend"
   ]
  },
  {
   "cell_type": "code",
   "execution_count": 1,
   "id": "692cae59-dd8a-4323-b6df-abc39ecded4b",
   "metadata": {},
   "outputs": [],
   "source": [
    "import pandas as pd\n",
    "import snowflake.connector\n",
    "from getpass import getpass\n",
    "from sqlalchemy import create_engine\n",
    "from math import pi\n",
    "from sklearn.preprocessing import StandardScaler, OneHotEncoder\n",
    "from sklearn.compose import ColumnTransformer\n",
    "from sklearn.pipeline import Pipeline\n",
    "from mlxtend.frequent_patterns import apriori, association_rules\n",
    "import datetime as dt\n",
    "import seaborn as sns\n",
    "import matplotlib.pyplot as plt"
   ]
  },
  {
   "cell_type": "markdown",
   "id": "00640890-453e-4260-9f83-1ecc635b2489",
   "metadata": {},
   "source": [
    "### Connect to Snowflake Account and fetch data"
   ]
  },
  {
   "cell_type": "code",
   "execution_count": 4,
   "id": "16c7856e-a7a2-498f-bd14-f17ffff82cd6",
   "metadata": {},
   "outputs": [
    {
     "name": "stdin",
     "output_type": "stream",
     "text": [
      "Enter your Snowflake password:  ········\n"
     ]
    }
   ],
   "source": [
    "user = 'LiMi686'\n",
    "password = getpass.getpass('Enter your Snowflake password: ')\n",
    "account = 'TVRZIHA-IFB54421'\n",
    "warehouse = 'COMPUTE_WH'\n",
    "database = 'OLIST'\n",
    "schema = 'PUBLIC'\n",
    "\n",
    "# Create SQLAlchemy engine\n",
    "engine = create_engine(\n",
    "    f'snowflake://{user}:{password}@{account}/{database}/{schema}?warehouse={warehouse}'\n",
    ")\n",
    "\n",
    "# Fetch data from tables\n",
    "def fetch_table(table_name):\n",
    "    query = f'SELECT * FROM {table_name};'\n",
    "    with engine.connect() as conn:\n",
    "        return pd.read_sql(query, conn)\n",
    "\n",
    "# Load all required tables\n",
    "orders_df = fetch_table('olist_orders')\n",
    "customers_df = fetch_table('olist_order_customer')\n",
    "geolocation_df = fetch_table('olist_geolocation')\n",
    "products_df = fetch_table('olist_products')\n",
    "sellers_df = fetch_table('olist_sellers')\n",
    "order_items_df = fetch_table('olist_order_items')\n",
    "payments_df = fetch_table('olist_order_payments')\n",
    "reviews_df = fetch_table('olist_order_reviews')\n",
    "\n"
   ]
  },
  {
   "cell_type": "markdown",
   "id": "0688e570-7aee-4263-b2f2-10f328adb2b3",
   "metadata": {},
   "source": [
    "### Data Cleaning"
   ]
  },
  {
   "cell_type": "code",
   "execution_count": 6,
   "id": "d1867e01-86d7-43d7-8a30-46420ac7b1a8",
   "metadata": {},
   "outputs": [
    {
     "name": "stdout",
     "output_type": "stream",
     "text": [
      "<class 'pandas.core.frame.DataFrame'>\n",
      "RangeIndex: 99441 entries, 0 to 99440\n",
      "Data columns (total 8 columns):\n",
      " #   Column                         Non-Null Count  Dtype         \n",
      "---  ------                         --------------  -----         \n",
      " 0   order_id                       99441 non-null  object        \n",
      " 1   customer_id                    99441 non-null  object        \n",
      " 2   order_status                   99441 non-null  object        \n",
      " 3   order_purchase_timestamp       99441 non-null  datetime64[ns]\n",
      " 4   order_approved_at              99281 non-null  datetime64[ns]\n",
      " 5   order_delivered_carrier_date   97658 non-null  datetime64[ns]\n",
      " 6   order_delivered_customer_date  96476 non-null  datetime64[ns]\n",
      " 7   order_estimated_delivery_date  99441 non-null  datetime64[ns]\n",
      "dtypes: datetime64[ns](5), object(3)\n",
      "memory usage: 6.1+ MB\n"
     ]
    }
   ],
   "source": [
    "orders_df.info()"
   ]
  },
  {
   "cell_type": "code",
   "execution_count": null,
   "id": "f5c4a99a-0704-49e8-bf18-a4a64869a752",
   "metadata": {},
   "outputs": [],
   "source": [
    "def clean_df(df, name):\n",
    "    print(f\"Before cleaning: {name} -> {df.shape}\")\n",
    "    df = df.drop_duplicates()\n",
    "    df = df.dropna()\n",
    "    print(f\"After cleaning: {name} -> {df.shape}\")\n",
    "    return df\n",
    "\n",
    "orders_df = clean_df(orders_df, \"orders\")\n",
    "customers_df = clean_df(customers_df, \"customers\")\n",
    "geolocation_df = clean_df(geolocation_df, \"geolocation\")\n",
    "products_df = clean_df(products_df, \"products\")\n",
    "sellers_df = clean_df(sellers_df, \"sellers\")\n",
    "order_items_df = clean_df(order_items_df, \"order_items\")\n",
    "payments_df = clean_df(payments_df, \"payments\")\n",
    "reviews_df = clean_df(reviews_df, \"reviews\")"
   ]
  },
  {
   "cell_type": "markdown",
   "id": "f1a3c553-1247-47c4-a602-442f5f9035af",
   "metadata": {},
   "source": [
    "### Combine all tables and "
   ]
  },
  {
   "cell_type": "code",
   "execution_count": null,
   "id": "d58d9eb5-35b8-4e7a-b819-f3cf1890fba0",
   "metadata": {},
   "outputs": [],
   "source": [
    "# Merge 1: Orders + Customers\n",
    "orders_customers = pd.merge(orders_df, customers_df, on='customer_id', how='inner')\n",
    "\n",
    "# Merge 2: + Geolocation (via zip prefix)\n",
    "orders_customers_geo = pd.merge(\n",
    "    orders_customers,\n",
    "    geolocation_df,\n",
    "    left_on='customer_zip_code_prefix',\n",
    "    right_on='geolocation_zip_code_prefix',\n",
    "    how='left'\n",
    ")\n",
    "\n",
    "# Merge 3: + Order Items\n",
    "orders_full = pd.merge(orders_customers_geo, order_items_df, on='order_id', how='inner')\n",
    "\n",
    "# Merge 4: + Products\n",
    "orders_full = pd.merge(orders_full, products_df, on='product_id', how='left')\n",
    "\n",
    "# Merge 5: + Sellers\n",
    "orders_full = pd.merge(orders_full, sellers_df, on='seller_id', how='left')\n",
    "\n",
    "# Merge 6: + Payments\n",
    "orders_full = pd.merge(orders_full, payments_df, on='order_id', how='left')\n",
    "\n",
    "# Merge 7: + Reviews\n",
    "orders_full = pd.merge(orders_full, reviews_df, on='order_id', how='left')\n",
    "\n",
    "# Result\n",
    "print(f\"Unified dataset shape: {orders_full.shape}\")\n",
    "orders_full.head()\n"
   ]
  },
  {
   "cell_type": "markdown",
   "id": "e8a000cc-401a-4001-af94-8bcaf92f816c",
   "metadata": {},
   "source": [
    "### Feature Engineering"
   ]
  },
  {
   "cell_type": "markdown",
   "id": "8e19f523-801c-410d-9723-d70f6708d089",
   "metadata": {},
   "source": [
    "delivery_time: Derived as the difference between delivery and purchase timestamps to quantify shipping speed.\n",
    "\n",
    "avg_order_value: Aggregated total order price per customer to measure spending behavior.\n",
    "\n",
    "Calculated total_orders per customer: To understand customer engagement.\n",
    "\n",
    "Computed avg_review_score per customer: To capture customer satisfaction.\n",
    "\n",
    "Extracted most_used_payment_type per customer: To profile payment preferences.\n",
    "\n",
    "Derived top_product_categories per customer: To understand product interests."
   ]
  },
  {
   "cell_type": "code",
   "execution_count": null,
   "id": "10c59810-bd4d-41c6-9caa-4e499842bb3b",
   "metadata": {},
   "outputs": [],
   "source": [
    "# Convert dates to datetime\n",
    "date_cols = [\n",
    "    'order_purchase_timestamp', 'order_approved_at', \n",
    "    'order_delivered_carrier_date', 'order_delivered_customer_date', \n",
    "    'order_estimated_delivery_date'\n",
    "]\n",
    "\n",
    "for col in date_cols:\n",
    "    orders_full[col] = pd.to_datetime(orders_full[col])\n",
    "\n",
    "# Feature 1: Delivery Time\n",
    "orders_full['delivery_time'] = (orders_full['order_delivered_customer_date'] - orders_full['order_purchase_timestamp']).dt.days\n",
    "\n",
    "# Feature 2: Estimated Delay (output is positive if late)\n",
    "orders_full['estimated_delay'] = (orders_full['order_delivered_customer_date'] - orders_full['order_estimated_delivery_date']).dt.days\n",
    "\n",
    "# Feature 3: Approval Delay\n",
    "orders_full['approval_delay'] = (orders_full['order_approved_at'] - orders_full['order_purchase_timestamp']).dt.total_seconds() / 3600  # (time in hours)\n",
    "\n",
    "# Feature 4: Freight-to-Price Ratio\n",
    "orders_full['freight_ratio'] = orders_full['freight_value'] / orders_full['price']\n",
    "\n",
    "# Clean infinite/NaN ratios\n",
    "orders_full['freight_ratio'] = orders_full['freight_ratio'].replace([float('inf'), -float('inf')], pd.NA)\n",
    "orders_full.dropna(subset=['freight_ratio'], inplace=True)\n",
    "\n",
    "# Preview\n",
    "orders_full[['delivery_time', 'estimated_delay', 'approval_delay', 'freight_ratio']].describe()\n"
   ]
  },
  {
   "cell_type": "markdown",
   "id": "8f8d18d3-048c-4c22-a47e-cb0ac01f8aea",
   "metadata": {},
   "source": []
  },
  {
   "cell_type": "code",
   "execution_count": null,
   "id": "5b94033e-2e99-4bc6-93c0-c9a066605695",
   "metadata": {},
   "outputs": [],
   "source": [
    "# Group by customer_id\n",
    "customer_features = orders_full.groupby('customer_id').agg({\n",
    "    'order_id': 'nunique',\n",
    "    'price': 'mean',\n",
    "    'payment_type': lambda x: x.mode().iloc[0] if not x.mode().empty else None,\n",
    "    'review_score': 'mean',\n",
    "    'customer_state': 'first'\n",
    "}).reset_index()\n",
    "\n",
    "customer_features.columns = [\n",
    "    'customer_id', \n",
    "    'num_orders', \n",
    "    'avg_order_value', \n",
    "    'most_used_payment_type', \n",
    "    'avg_review_score', \n",
    "    'customer_state'\n",
    "]\n",
    "\n",
    "customer_features.head()\n"
   ]
  },
  {
   "cell_type": "markdown",
   "id": "7b72092d-7fe9-45df-81bc-b56f89b8dd1c",
   "metadata": {},
   "source": []
  },
  {
   "cell_type": "code",
   "execution_count": null,
   "id": "c4e438c1-52e5-402d-a738-c08487624ea6",
   "metadata": {},
   "outputs": [],
   "source": [
    "order_level_features = orders_full.groupby('order_id').agg({\n",
    "    'customer_id': 'first',\n",
    "    'product_id': 'nunique',\n",
    "    'price': 'sum',\n",
    "    'freight_value': 'sum',\n",
    "    'order_item_id': 'count',\n",
    "    'delivery_time': 'mean',\n",
    "    'estimated_delay': 'mean'\n",
    "}).reset_index()\n",
    "\n",
    "order_level_features.columns = [\n",
    "    'order_id', 'customer_id', 'unique_products', 'total_order_value',\n",
    "    'total_freight', 'num_items', 'avg_delivery_time', 'avg_estimated_delay'\n",
    "]\n",
    "\n",
    "order_level_features.head()\n"
   ]
  },
  {
   "cell_type": "markdown",
   "id": "2e618130-3f68-45d5-81b4-c4e9b8dbcf1d",
   "metadata": {},
   "source": []
  },
  {
   "cell_type": "code",
   "execution_count": null,
   "id": "e31666ee-3ee1-47dc-be20-7e3570097e11",
   "metadata": {},
   "outputs": [],
   "source": [
    "# Filter only required columns\n",
    "basket_df = orders_full[['order_id', 'product_category_name']].dropna()\n",
    "\n",
    "# Create binary matrix: 1 if category present in order\n",
    "basket_matrix = pd.crosstab(basket_df['order_id'], basket_df['product_category_name'])\n",
    "\n",
    "basket_matrix = basket_matrix.map(lambda x: 1 if x > 0 else 0)\n",
    "\n",
    "basket_matrix = basket_matrix.astype(bool)\n",
    "\n",
    "basket_matrix.head()\n"
   ]
  },
  {
   "cell_type": "markdown",
   "id": "2fb92762-b7a5-4d31-b831-d2ca6a0d2f0a",
   "metadata": {},
   "source": [
    "### Encoding for Clustering"
   ]
  },
  {
   "cell_type": "code",
   "execution_count": null,
   "id": "27d8949b-c2a2-41f8-9137-9b22e1cd3d25",
   "metadata": {},
   "outputs": [],
   "source": [
    "\n",
    "# Combine customer and order-level features\n",
    "clustering_data = pd.merge(order_level_features, customer_features, on='customer_id', how='left')\n",
    "\n",
    "# Drop IDs\n",
    "clustering_data_clean = clustering_data.drop(columns=['order_id', 'customer_id'])\n",
    "\n",
    "# Define columns\n",
    "num_cols = ['num_orders', 'avg_order_value', 'avg_review_score', 'unique_products', 'total_order_value',\n",
    "            'total_freight', 'num_items', 'avg_delivery_time', 'avg_estimated_delay']\n",
    "cat_cols = ['most_used_payment_type', 'customer_state']\n",
    "\n",
    "# Build pipeline\n",
    "preprocessor = ColumnTransformer([\n",
    "    ('num', StandardScaler(), num_cols),\n",
    "    ('cat', OneHotEncoder(sparse_output=False, handle_unknown='ignore'), cat_cols)\n",
    "])\n",
    "\n",
    "clustering_prepared = preprocessor.fit_transform(clustering_data_clean)\n",
    "\n",
    "print(f\"Final shape for clustering: {clustering_prepared.shape}\")\n"
   ]
  },
  {
   "cell_type": "markdown",
   "id": "4f6d71ca-5e6e-43de-90ea-bf459caccade",
   "metadata": {},
   "source": [
    "### Features - Visualizations"
   ]
  },
  {
   "cell_type": "code",
   "execution_count": null,
   "id": "0f30261a-31f9-4a8e-ba69-f1b95e7b2454",
   "metadata": {},
   "outputs": [],
   "source": [
    "plt.figure(figsize=(6, 4))\n",
    "sns.histplot(orders_full['review_score'].dropna(), bins=5, kde=True)\n",
    "plt.title('Distribution of Review Scores')\n",
    "plt.xlabel('Review Score')\n",
    "plt.ylabel('Count')\n",
    "plt.grid(True)\n",
    "plt.show()\n"
   ]
  },
  {
   "cell_type": "code",
   "execution_count": null,
   "id": "73c7fc8f-2988-4bec-b80c-a2a3802d14ac",
   "metadata": {},
   "outputs": [],
   "source": [
    "avg_order_value = orders_full.groupby('customer_id')['price'].mean()\n",
    "\n",
    "plt.figure(figsize=(6, 4))\n",
    "sns.histplot(avg_order_value, bins=30, kde=True)\n",
    "plt.title('Average Order Value per Customer')\n",
    "plt.xlabel('Avg. Order Value')\n",
    "plt.ylabel('Count')\n",
    "plt.grid(True)\n",
    "plt.show()\n"
   ]
  },
  {
   "cell_type": "code",
   "execution_count": null,
   "id": "e1ab3205-03f6-48cb-bb5f-a70c4e86514b",
   "metadata": {},
   "outputs": [],
   "source": [
    "plt.figure(figsize=(6, 4))\n",
    "sns.countplot(data=orders_full, x='payment_type', order=orders_full['payment_type'].value_counts().index)\n",
    "plt.title('Payment Method Distribution')\n",
    "plt.xlabel('Payment Type')\n",
    "plt.ylabel('Count')\n",
    "plt.xticks(rotation=45)\n",
    "plt.show()\n"
   ]
  },
  {
   "cell_type": "code",
   "execution_count": null,
   "id": "9b2f97da-35eb-4d81-a15f-68b64d308aca",
   "metadata": {},
   "outputs": [],
   "source": [
    "#Time - based\n",
    "orders_full['delivery_time'] = (orders_full['order_delivered_customer_date'] - orders_full['order_purchase_timestamp']).dt.days\n",
    "\n",
    "plt.figure(figsize=(6, 4))\n",
    "sns.histplot(orders_full['delivery_time'].dropna(), bins=30)\n",
    "plt.title('Delivery Time (Days)')\n",
    "plt.xlabel('Days to Deliver')\n",
    "plt.ylabel('Number of Orders')\n",
    "plt.grid(True)\n",
    "plt.show()\n"
   ]
  },
  {
   "cell_type": "code",
   "execution_count": null,
   "id": "9e74dfdb-fdba-4d86-b55f-fb32408c59e3",
   "metadata": {},
   "outputs": [],
   "source": [
    "top_cats = orders_full['product_category_name'].value_counts().head(10)\n",
    "\n",
    "plt.figure(figsize=(8, 5))\n",
    "sns.barplot(x=top_cats.values, y=top_cats.index, palette='viridis', hue=top_cats.index, legend=False)\n",
    "plt.title('Top 10 Product Categories')\n",
    "plt.xlabel('Number of Purchases')\n",
    "plt.ylabel('Product Category')\n",
    "plt.show()\n"
   ]
  },
  {
   "cell_type": "markdown",
   "id": "625c59ac-7dc1-41a0-8631-6f2a3ea1417e",
   "metadata": {},
   "source": [
    "#### Time-based"
   ]
  },
  {
   "cell_type": "code",
   "execution_count": null,
   "id": "5babecd9-6c9c-4c21-9892-18d133dc3871",
   "metadata": {},
   "outputs": [],
   "source": [
    "# Histogram of estimated_delay\n",
    "sns.histplot(orders_full['estimated_delay'], bins=30)\n",
    "plt.title('Estimated Delay Distribution')\n",
    "plt.xlabel('Days (Positive = Late)')\n",
    "plt.ylabel('Frequency')\n",
    "plt.show()\n",
    "\n",
    "# Boxplot of approval_delay by payment_type\n",
    "sns.boxplot(x='payment_type', y='approval_delay', data=orders_full)\n",
    "plt.title('Approval Delay by Payment Type')\n",
    "plt.xlabel('Payment Type')\n",
    "plt.ylabel('Approval Delay (Hours)')\n",
    "plt.xticks(rotation=45)\n",
    "plt.show()\n"
   ]
  },
  {
   "cell_type": "markdown",
   "id": "b7e455ab-7727-4487-b2fe-9c39f72380d8",
   "metadata": {},
   "source": [
    "#### Value-based"
   ]
  },
  {
   "cell_type": "code",
   "execution_count": null,
   "id": "69a1865d-98e6-4e2d-a9e4-5369a6f41c3a",
   "metadata": {},
   "outputs": [],
   "source": [
    "# Scatter plot of freight_ratio vs. price\n",
    "sns.scatterplot(x='price', y='freight_ratio', data=orders_full)\n",
    "plt.title('Freight-to-Price Ratio vs Price')\n",
    "plt.xlabel('Price')\n",
    "plt.ylabel('Freight Ratio')\n",
    "plt.show()\n",
    "\n",
    "# Boxplot of freight_ratio by product_category_name (top 10 categories)\n",
    "top_categories = orders_full['product_category_name'].value_counts().nlargest(10).index\n",
    "sns.boxplot(data=orders_full[orders_full['product_category_name'].isin(top_categories)],\n",
    "            x='product_category_name', y='freight_ratio')\n",
    "plt.title('Freight Ratio by Product Category (Top 10)')\n",
    "plt.xlabel('Product Category')\n",
    "plt.ylabel('Freight Ratio')\n",
    "plt.xticks(rotation=45)\n",
    "plt.show()\n"
   ]
  },
  {
   "cell_type": "markdown",
   "id": "8f022373-c288-4add-8866-807983b72e7c",
   "metadata": {},
   "source": [
    "#### Order level"
   ]
  },
  {
   "cell_type": "code",
   "execution_count": null,
   "id": "e1e786b8-9d17-497e-a218-e08df5d109fc",
   "metadata": {},
   "outputs": [],
   "source": [
    "# Histogram of unique_products\n",
    "sns.histplot(order_level_features['unique_products'], bins=20)\n",
    "plt.title('Unique Products per Order')\n",
    "plt.xlabel('Number of Unique Products')\n",
    "plt.ylabel('Frequency')\n",
    "plt.show()\n",
    "\n",
    "# Bar plot of avg_estimated_delay per product category (top 10)\n",
    "avg_delay = orders_full.groupby('product_category_name')['estimated_delay'].mean().reset_index()\n",
    "top_delay = avg_delay.sort_values(by='estimated_delay', ascending=False).head(10)\n",
    "sns.barplot(x='estimated_delay', y='product_category_name', data=top_delay)\n",
    "plt.title('Avg Estimated Delay by Product Category (Top 10)')\n",
    "plt.xlabel('Avg Estimated Delay (Days)')\n",
    "plt.ylabel('Product Category')\n",
    "plt.show()\n"
   ]
  },
  {
   "cell_type": "markdown",
   "id": "38e2d2e0-ed10-45f6-ad03-51f0cf78c3e6",
   "metadata": {},
   "source": [
    "#### Customer-level"
   ]
  },
  {
   "cell_type": "code",
   "execution_count": null,
   "id": "caf279ac-45b2-49ba-9267-d6981e478df2",
   "metadata": {},
   "outputs": [],
   "source": [
    "# Bar plot of num_orders per customer_state\n",
    "orders_per_state = customer_features.groupby('customer_state')['num_orders'].sum().reset_index()\n",
    "sns.barplot(x='customer_state', y='num_orders', data=orders_per_state)\n",
    "plt.title('Number of Orders by State')\n",
    "plt.xlabel('State')\n",
    "plt.ylabel('Number of Orders')\n",
    "plt.xticks(rotation=45)\n",
    "plt.show()\n",
    "\n",
    "# Boxplot of avg_order_value by customer_state\n",
    "sns.boxplot(x='customer_state', y='avg_order_value', data=customer_features)\n",
    "plt.title('Average Order Value by State')\n",
    "plt.xlabel('State')\n",
    "plt.ylabel('Avg Order Value')\n",
    "plt.xticks(rotation=45)\n",
    "plt.show()"
   ]
  },
  {
   "cell_type": "markdown",
   "id": "def03c9b-34f2-43bd-b507-279acde1fd79",
   "metadata": {},
   "source": [
    "#### Basket - Analysis"
   ]
  },
  {
   "cell_type": "code",
   "execution_count": null,
   "id": "44afb937-6ce9-46f2-a7d9-509f2012b487",
   "metadata": {},
   "outputs": [],
   "source": [
    "# Heatmap of basket_matrix correlation\n",
    "corr_matrix = basket_matrix.corr()\n",
    "plt.figure(figsize=(12, 10))\n",
    "sns.heatmap(corr_matrix, cmap='coolwarm')\n",
    "plt.title('Product Category Co-occurrence Heatmap')\n",
    "plt.show()\n",
    "\n",
    "# Dendrogram (hierarchical clustering of basket_matrix)\n",
    "from scipy.cluster.hierarchy import linkage, dendrogram\n",
    "linkage_matrix = linkage(basket_matrix.T, method='ward')\n",
    "plt.figure(figsize=(15, 6))\n",
    "dendrogram(linkage_matrix, labels=basket_matrix.columns, leaf_rotation=90)\n",
    "plt.title('Product Category Dendrogram (Market Basket Segmentation)')\n",
    "plt.show()\n"
   ]
  },
  {
   "cell_type": "markdown",
   "id": "cea42a72-d811-4bde-ad54-e8a076762bc0",
   "metadata": {},
   "source": [
    "### Modelling"
   ]
  },
  {
   "cell_type": "markdown",
   "id": "b34e4c89-bc34-41cf-b953-a67265b90654",
   "metadata": {},
   "source": [
    "#### RFM"
   ]
  },
  {
   "cell_type": "markdown",
   "id": "d7e912c9-4569-4e68-99e1-f3a081ba5f24",
   "metadata": {},
   "source": [
    "Recency: Days since the last purchase for each customer.\n",
    "\n",
    "Frequency: Total number of orders per customer.\n",
    "\n",
    "Monetary: Total spending by customer.\n",
    "\n",
    "Scored R, F, M using quantiles: Assigned scores from 1–4 to rank customer behavior.\n",
    "\n",
    "Created RFM segments: Combined RFM scores to categorize customers (e.g., \"444\" = best).\n",
    "\n",
    "Labeled segments: Mapped RFM scores to business-friendly labels like “Loyal” or “At Risk”."
   ]
  },
  {
   "cell_type": "code",
   "execution_count": null,
   "id": "5ff3e811-d5c7-4aa7-873b-c8b97f84fe08",
   "metadata": {},
   "outputs": [],
   "source": [
    "# Reference date: last purchase date + 1\n",
    "snapshot_date = orders_full['order_purchase_timestamp'].max() + pd.Timedelta(days=1)\n",
    "\n",
    "# Aggregate RFM values\n",
    "rfm = orders_full.groupby('customer_id').agg({\n",
    "    'order_purchase_timestamp': lambda x: (snapshot_date - x.max()).days,  # Recency\n",
    "    'order_id': 'count',                                                  # Frequency\n",
    "    'price': 'sum'                                                        # Monetary\n",
    "}).reset_index()\n",
    "\n",
    "rfm.columns = ['customer_id', 'recency', 'frequency', 'monetary']\n",
    "\n",
    "rfm.describe()\n"
   ]
  },
  {
   "cell_type": "code",
   "execution_count": null,
   "id": "090a88e4-338b-4d8d-bf6d-f7424cd83230",
   "metadata": {},
   "outputs": [],
   "source": [
    "# Score each metric 1–4\n",
    "rfm['r_score'] = pd.qcut(rfm['recency'], 4, labels=[4, 3, 2, 1]).astype(int)\n",
    "rfm['f_score'] = pd.qcut(rfm['frequency'].rank(method='first'), 4, labels=[1, 2, 3, 4]).astype(int)\n",
    "rfm['m_score'] = pd.qcut(rfm['monetary'], 4, labels=[1, 2, 3, 4]).astype(int)\n",
    "\n",
    "# Create RFM segment\n",
    "rfm['rfm_segment'] = rfm['r_score'].astype(str) + rfm['f_score'].astype(str) + rfm['m_score'].astype(str)\n",
    "\n",
    "# Preview\n",
    "rfm.head()\n"
   ]
  },
  {
   "cell_type": "code",
   "execution_count": null,
   "id": "8b0e3199-7294-43ef-8371-3ada2229f70a",
   "metadata": {},
   "outputs": [],
   "source": [
    "plt.figure(figsize=(8, 4))\n",
    "sns.countplot(data=rfm, x='rfm_segment', order=rfm['rfm_segment'].value_counts().index[:15])\n",
    "plt.title('Top RFM Segments')\n",
    "plt.xlabel('RFM Segment')\n",
    "plt.ylabel('Count')\n",
    "plt.xticks(rotation=45)\n",
    "plt.tight_layout()\n",
    "plt.show()\n"
   ]
  },
  {
   "cell_type": "markdown",
   "id": "0196ac56-6e09-4eaa-aa98-4376621e70f1",
   "metadata": {},
   "source": [
    "#### Association Mining"
   ]
  },
  {
   "cell_type": "code",
   "execution_count": null,
   "id": "680ef008-cd88-45db-8198-f290813e7ca0",
   "metadata": {},
   "outputs": [],
   "source": [
    "frequent_itemsets = apriori(basket_matrix, min_support=0.01, use_colnames=True)\n",
    "\n",
    "rules = association_rules(frequent_itemsets, metric='lift', min_threshold=1.1)\n",
    "\n",
    "# Sort by confidence\n",
    "rules.sort_values(by='confidence', ascending=False).head(10)"
   ]
  },
  {
   "cell_type": "code",
   "execution_count": null,
   "id": "5e260f1c-ba4f-4317-a642-1a55ef407e66",
   "metadata": {},
   "outputs": [],
   "source": [
    "plt.figure(figsize=(6, 5))\n",
    "sns.scatterplot(data=rules, x='support', y='confidence',size='lift', palette='coolwarm',hue='lift', sizes=(40, 200), legend='full')\n",
    "\n",
    "plt.title('Association Rules: Support vs Confidence')\n",
    "plt.xlabel('Support')\n",
    "plt.ylabel('Confidence')\n",
    "plt.legend(title='Lift', bbox_to_anchor=(1.05, 1), loc='upper left')\n",
    "plt.grid(True)\n",
    "plt.tight_layout()\n",
    "plt.show()\n"
   ]
  },
  {
   "cell_type": "markdown",
   "id": "2b03496d-8c77-484d-8707-882da915fcfc",
   "metadata": {},
   "source": [
    "#### K-Means Clustering"
   ]
  },
  {
   "cell_type": "code",
   "execution_count": null,
   "id": "3bd617a0-9010-495a-bd68-e1f904766b10",
   "metadata": {},
   "outputs": [],
   "source": [
    "from sklearn.cluster import KMeans\n",
    "from sklearn.impute import SimpleImputer\n",
    "\n",
    "imputer = SimpleImputer(strategy='mean')\n",
    "clustering_prepared = imputer.fit_transform(clustering_prepared)\n",
    "#Try K from 2 to 10\n",
    "inertia = []\n",
    "K_range = range(2, 11)\n",
    "\n",
    "for k in K_range:\n",
    "    km = KMeans(n_clusters=k, random_state=42, n_init='auto')\n",
    "    km.fit(clustering_prepared)\n",
    "    inertia.append(km.inertia_)\n",
    "\n",
    "# Plot\n",
    "plt.figure(figsize=(6, 4))\n",
    "plt.plot(K_range, inertia, marker='o')\n",
    "plt.xlabel('Number of Clusters (K)')\n",
    "plt.ylabel('Inertia')\n",
    "plt.title('Elbow Method for K')\n",
    "plt.grid(True)\n",
    "plt.show()\n"
   ]
  },
  {
   "cell_type": "code",
   "execution_count": null,
   "id": "1caf6f03-4db6-4595-b754-ef3c9e030d59",
   "metadata": {},
   "outputs": [],
   "source": [
    "kmeans = KMeans(n_clusters=4, random_state=42, n_init='auto')\n",
    "clusters = kmeans.fit_predict(clustering_prepared)\n",
    "\n",
    "# Add cluster labels to original DataFrame\n",
    "clustering_data['cluster'] = clusters\n",
    "\n",
    "# Check cluster distribution\n",
    "clustering_data['cluster'].value_counts().sort_index()\n"
   ]
  },
  {
   "cell_type": "code",
   "execution_count": null,
   "id": "5f5ebbf3-53c9-40e1-8d39-13f30483ae44",
   "metadata": {},
   "outputs": [],
   "source": [
    "# Average values per cluster\n",
    "cluster_profiles = clustering_data.groupby('cluster').mean(numeric_only=True)\n",
    "cluster_profiles\n"
   ]
  },
  {
   "cell_type": "code",
   "execution_count": null,
   "id": "f3ee344a-c10e-46c1-b7cc-db58472ac5dd",
   "metadata": {},
   "outputs": [],
   "source": [
    "# Normalize cluster profiles\n",
    "profile_norm = cluster_profiles.copy()\n",
    "profile_norm = (profile_norm - profile_norm.min()) / (profile_norm.max() - profile_norm.min())\n",
    "\n",
    "# Prepare for radar\n",
    "labels = profile_norm.columns.tolist()\n",
    "num_vars = len(labels)\n",
    "\n",
    "fig, ax = plt.subplots(figsize=(6, 6), subplot_kw=dict(polar=True))\n",
    "\n",
    "for i in profile_norm.index:\n",
    "    values = profile_norm.loc[i].tolist()\n",
    "    values += values[:1]  # loop back to start\n",
    "    angles = [n / float(num_vars) * 2 * pi for n in range(num_vars)]\n",
    "    angles += angles[:1]\n",
    "\n",
    "    ax.plot(angles, values, label=f'Cluster {i}')\n",
    "    ax.fill(angles, values, alpha=0.1)\n",
    "\n",
    "ax.set_xticks(angles[:-1])\n",
    "ax.set_xticklabels(labels)\n",
    "plt.title('Cluster Profiles (Radar Chart)')\n",
    "plt.legend()\n",
    "plt.show()\n"
   ]
  },
  {
   "cell_type": "code",
   "execution_count": null,
   "id": "87c0b2f4-6041-4da8-91cc-33127e4fc53e",
   "metadata": {},
   "outputs": [],
   "source": []
  }
 ],
 "metadata": {
  "kernelspec": {
   "display_name": "Python [conda env:base] *",
   "language": "python",
   "name": "conda-base-py"
  },
  "language_info": {
   "codemirror_mode": {
    "name": "ipython",
    "version": 3
   },
   "file_extension": ".py",
   "mimetype": "text/x-python",
   "name": "python",
   "nbconvert_exporter": "python",
   "pygments_lexer": "ipython3",
   "version": "3.12.7"
  }
 },
 "nbformat": 4,
 "nbformat_minor": 5
}
