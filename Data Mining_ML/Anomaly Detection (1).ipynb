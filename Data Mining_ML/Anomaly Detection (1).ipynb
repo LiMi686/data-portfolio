{
 "cells": [
  {
   "cell_type": "markdown",
   "id": "46d15d63",
   "metadata": {},
   "source": [
    "# Q1: Online Retail_Anomaly Detecion"
   ]
  },
  {
   "cell_type": "code",
   "execution_count": 1,
   "id": "65b39c94",
   "metadata": {},
   "outputs": [],
   "source": [
    "import numpy as np \n",
    "import pandas as pd \n",
    "import seaborn as sns\n",
    "import matplotlib.pyplot as plt"
   ]
  },
  {
   "cell_type": "code",
   "execution_count": 2,
   "id": "0ccf7dd0",
   "metadata": {},
   "outputs": [
    {
     "data": {
      "text/html": [
       "<div>\n",
       "<style scoped>\n",
       "    .dataframe tbody tr th:only-of-type {\n",
       "        vertical-align: middle;\n",
       "    }\n",
       "\n",
       "    .dataframe tbody tr th {\n",
       "        vertical-align: top;\n",
       "    }\n",
       "\n",
       "    .dataframe thead th {\n",
       "        text-align: right;\n",
       "    }\n",
       "</style>\n",
       "<table border=\"1\" class=\"dataframe\">\n",
       "  <thead>\n",
       "    <tr style=\"text-align: right;\">\n",
       "      <th></th>\n",
       "      <th>InvoiceNo</th>\n",
       "      <th>StockCode</th>\n",
       "      <th>Description</th>\n",
       "      <th>Quantity</th>\n",
       "      <th>InvoiceDate</th>\n",
       "      <th>UnitPrice</th>\n",
       "      <th>CustomerID</th>\n",
       "      <th>Country</th>\n",
       "    </tr>\n",
       "  </thead>\n",
       "  <tbody>\n",
       "    <tr>\n",
       "      <th>0</th>\n",
       "      <td>536365</td>\n",
       "      <td>85123A</td>\n",
       "      <td>WHITE HANGING HEART T-LIGHT HOLDER</td>\n",
       "      <td>6</td>\n",
       "      <td>12/1/2010 8:26</td>\n",
       "      <td>2.55</td>\n",
       "      <td>17850.0</td>\n",
       "      <td>United Kingdom</td>\n",
       "    </tr>\n",
       "    <tr>\n",
       "      <th>1</th>\n",
       "      <td>536365</td>\n",
       "      <td>71053</td>\n",
       "      <td>WHITE METAL LANTERN</td>\n",
       "      <td>6</td>\n",
       "      <td>12/1/2010 8:26</td>\n",
       "      <td>3.39</td>\n",
       "      <td>17850.0</td>\n",
       "      <td>United Kingdom</td>\n",
       "    </tr>\n",
       "    <tr>\n",
       "      <th>2</th>\n",
       "      <td>536365</td>\n",
       "      <td>84406B</td>\n",
       "      <td>CREAM CUPID HEARTS COAT HANGER</td>\n",
       "      <td>8</td>\n",
       "      <td>12/1/2010 8:26</td>\n",
       "      <td>2.75</td>\n",
       "      <td>17850.0</td>\n",
       "      <td>United Kingdom</td>\n",
       "    </tr>\n",
       "    <tr>\n",
       "      <th>3</th>\n",
       "      <td>536365</td>\n",
       "      <td>84029G</td>\n",
       "      <td>KNITTED UNION FLAG HOT WATER BOTTLE</td>\n",
       "      <td>6</td>\n",
       "      <td>12/1/2010 8:26</td>\n",
       "      <td>3.39</td>\n",
       "      <td>17850.0</td>\n",
       "      <td>United Kingdom</td>\n",
       "    </tr>\n",
       "    <tr>\n",
       "      <th>4</th>\n",
       "      <td>536365</td>\n",
       "      <td>84029E</td>\n",
       "      <td>RED WOOLLY HOTTIE WHITE HEART.</td>\n",
       "      <td>6</td>\n",
       "      <td>12/1/2010 8:26</td>\n",
       "      <td>3.39</td>\n",
       "      <td>17850.0</td>\n",
       "      <td>United Kingdom</td>\n",
       "    </tr>\n",
       "  </tbody>\n",
       "</table>\n",
       "</div>"
      ],
      "text/plain": [
       "  InvoiceNo StockCode                          Description  Quantity  \\\n",
       "0    536365    85123A   WHITE HANGING HEART T-LIGHT HOLDER         6   \n",
       "1    536365     71053                  WHITE METAL LANTERN         6   \n",
       "2    536365    84406B       CREAM CUPID HEARTS COAT HANGER         8   \n",
       "3    536365    84029G  KNITTED UNION FLAG HOT WATER BOTTLE         6   \n",
       "4    536365    84029E       RED WOOLLY HOTTIE WHITE HEART.         6   \n",
       "\n",
       "      InvoiceDate  UnitPrice  CustomerID         Country  \n",
       "0  12/1/2010 8:26       2.55     17850.0  United Kingdom  \n",
       "1  12/1/2010 8:26       3.39     17850.0  United Kingdom  \n",
       "2  12/1/2010 8:26       2.75     17850.0  United Kingdom  \n",
       "3  12/1/2010 8:26       3.39     17850.0  United Kingdom  \n",
       "4  12/1/2010 8:26       3.39     17850.0  United Kingdom  "
      ]
     },
     "execution_count": 2,
     "metadata": {},
     "output_type": "execute_result"
    }
   ],
   "source": [
    "df = pd.read_csv(\"C:/Users/LIMI/Desktop/OnlineRetail.csv\",encoding='unicode_escape')\n",
    "df.head()"
   ]
  },
  {
   "cell_type": "code",
   "execution_count": 3,
   "id": "8a715102",
   "metadata": {
    "scrolled": true
   },
   "outputs": [
    {
     "name": "stdout",
     "output_type": "stream",
     "text": [
      "            Quantity      UnitPrice     CustomerID\n",
      "count  541909.000000  541909.000000  406829.000000\n",
      "mean        9.552250       4.611114   15287.690570\n",
      "std       218.081158      96.759853    1713.600303\n",
      "min    -80995.000000  -11062.060000   12346.000000\n",
      "25%         1.000000       1.250000   13953.000000\n",
      "50%         3.000000       2.080000   15152.000000\n",
      "75%        10.000000       4.130000   16791.000000\n",
      "max     80995.000000   38970.000000   18287.000000\n"
     ]
    }
   ],
   "source": [
    "print(df.describe())"
   ]
  },
  {
   "cell_type": "markdown",
   "id": "12543969",
   "metadata": {},
   "source": [
    "# Anomaly Detection"
   ]
  },
  {
   "cell_type": "markdown",
   "id": "29f69ebc",
   "metadata": {},
   "source": [
    "Here, We're still going with France.\n",
    "\n",
    "Let's see the distribution of those parameters, and decided which methods we gonna use."
   ]
  },
  {
   "cell_type": "code",
   "execution_count": 4,
   "id": "37b0c2a3",
   "metadata": {},
   "outputs": [],
   "source": [
    "# We are going to see the Total money.  \n",
    "# Filter the data for France\n",
    "df[\"TotalAmount\"] = df[\"Quantity\"] * df[\"UnitPrice\"]\n",
    "france_df = df[df[\"Country\"] == \"France\"]"
   ]
  },
  {
   "cell_type": "code",
   "execution_count": 5,
   "id": "1106c3ac",
   "metadata": {},
   "outputs": [
    {
     "name": "stdout",
     "output_type": "stream",
     "text": [
      "          Quantity    UnitPrice    CustomerID  TotalAmount\n",
      "count  8557.000000  8557.000000   8491.000000  8557.000000\n",
      "mean     12.911067     5.028864  12677.995996    23.069288\n",
      "std      21.425031    79.909126    276.742088   117.181844\n",
      "min    -250.000000     0.000000  12413.000000 -8322.120000\n",
      "25%       5.000000     1.250000  12571.000000    10.500000\n",
      "50%      10.000000     1.790000  12674.000000    16.500000\n",
      "75%      12.000000     3.750000  12689.000000    23.400000\n",
      "max     912.000000  4161.060000  14277.000000  4161.060000\n"
     ]
    }
   ],
   "source": [
    "print(france_df.describe())"
   ]
  },
  {
   "cell_type": "markdown",
   "id": "693a1621",
   "metadata": {},
   "source": [
    "### Quantity: \n",
    "\n",
    "Extremely negative values (minimum -250) may indicate large number of refund records.\n",
    "\n",
    "Extremely positive values (maximum 912) may indicate explosive items . "
   ]
  },
  {
   "cell_type": "code",
   "execution_count": 6,
   "id": "74d27f4d",
   "metadata": {},
   "outputs": [
    {
     "data": {
      "image/png": "[encoded data removed]",
      "text/plain": [
       "<Figure size 1800x500 with 3 Axes>"
      ]
     },
     "metadata": {},
     "output_type": "display_data"
    }
   ],
   "source": [
    "#Create sub plot \n",
    "fig, axes = plt.subplots(1, 3, figsize=(18, 5)) \n",
    "\n",
    "# Quantity plot\n",
    "sns.kdeplot(france_df['Quantity'], fill=True, color='blue', alpha=0.5, ax=axes[0])\n",
    "axes[0].set_title(\"Density Plot of Quantity\", fontsize=14)\n",
    "axes[0].set_xlabel(\"Quantity\", fontsize=12)\n",
    "axes[0].set_ylabel(\"Density\", fontsize=12)\n",
    "axes[0].grid(True)\n",
    "\n",
    "# UnitPrice plot\n",
    "sns.kdeplot(france_df['UnitPrice'], fill=True, color='red', alpha=0.5, ax=axes[1])\n",
    "axes[1].set_title(\"Density Plot of UnitPrice\", fontsize=14)\n",
    "axes[1].set_xlabel(\"UnitPrice\", fontsize=12)\n",
    "axes[1].set_ylabel(\"Density\", fontsize=12)\n",
    "axes[1].grid(True)\n",
    "\n",
    "# TotalAmount plot\n",
    "sns.kdeplot(france_df['TotalAmount'], fill=True, color='green', alpha=0.5, ax=axes[2])\n",
    "axes[2].set_title(\"Density Plot of TotalAmount\", fontsize=14)\n",
    "axes[2].set_xlabel(\"TotalAmount\", fontsize=12)\n",
    "axes[2].set_ylabel(\"Density\", fontsize=12)\n",
    "axes[2].grid(True)\n",
    "\n",
    "# layout the plot\n",
    "plt.tight_layout()\n",
    "plt.show()"
   ]
  },
  {
   "cell_type": "markdown",
   "id": "a812653b",
   "metadata": {},
   "source": [
    "### From the graph we can see: \n",
    "\n",
    "1. Quantity: \n",
    "This distribution is highly skewed (skewness) and clearly does not conform to a normal distribution.\n",
    "\n",
    "2. UnitPrice: \n",
    "The data is concentrated in a smaller domain of values, with a small number of larger values lengthening the tails of the distribution. Moreover, High concentration of data in areas close to 0\n",
    "\n",
    "3. TotalAmount: \n",
    "Because Totalamount = Quantity * UnitPrice, so it's more affected by the extreme values. "
   ]
  },
  {
   "cell_type": "markdown",
   "id": "93b0d052",
   "metadata": {},
   "source": [
    "### So we are going to choose IQR, because: \n",
    "\n",
    "1. IQR is usually applied to continuous variables\n",
    "\n",
    "2. IQR is sensitive to outliers in the data, but is not as susceptible to the extremes of outliers as the mean and standard deviation. This makes it particularly suitable for asymmetric distributions with outliers.\n",
    "\n",
    "3. IQR does not depend on whether the data conforms to a normal distribution, and is suitable for dealing with asymmetric, skewed, or multi-peaked distributions."
   ]
  },
  {
   "cell_type": "code",
   "execution_count": 7,
   "id": "8a8ab2b4",
   "metadata": {},
   "outputs": [],
   "source": [
    "# Recalculate IQR for Quantity, UnitPrice, and TotalAmount for France\n",
    "Q1_quantity_fr = france_df[\"Quantity\"].quantile(0.25)\n",
    "Q3_quantity_fr = france_df[\"Quantity\"].quantile(0.75)\n",
    "IQR_quantity_fr = Q3_quantity_fr - Q1_quantity_fr\n",
    "\n",
    "Q1_price_fr = france_df[\"UnitPrice\"].quantile(0.25)\n",
    "Q3_price_fr = france_df[\"UnitPrice\"].quantile(0.75)\n",
    "IQR_price_fr = Q3_price_fr - Q1_price_fr\n",
    "\n",
    "Q1_amount_fr = france_df[\"TotalAmount\"].quantile(0.25)\n",
    "Q3_amount_fr = france_df[\"TotalAmount\"].quantile(0.75)\n",
    "IQR_amount_fr = Q3_amount_fr - Q1_amount_fr\n"
   ]
  },
  {
   "cell_type": "code",
   "execution_count": 8,
   "id": "a412f65a",
   "metadata": {},
   "outputs": [],
   "source": [
    "# Define stricter bounds for anomalies\n",
    "lower_bound_quantity_fr = Q1_quantity_fr - 3 * IQR_quantity_fr\n",
    "upper_bound_quantity_fr = Q3_quantity_fr + 3 * IQR_quantity_fr\n",
    "\n",
    "lower_bound_price_fr = Q1_price_fr - 3 * IQR_price_fr\n",
    "upper_bound_price_fr = Q3_price_fr + 3 * IQR_price_fr\n",
    "\n",
    "lower_bound_amount_fr = Q1_amount_fr - 3 * IQR_amount_fr\n",
    "upper_bound_amount_fr = Q3_amount_fr + 3 * IQR_amount_fr\n"
   ]
  },
  {
   "cell_type": "code",
   "execution_count": 9,
   "id": "cd512f47",
   "metadata": {},
   "outputs": [
    {
     "name": "stderr",
     "output_type": "stream",
     "text": [
      "C:\\Users\\LIMI\\AppData\\Local\\Temp\\ipykernel_21784\\2831527807.py:2: SettingWithCopyWarning: \n",
      "A value is trying to be set on a copy of a slice from a DataFrame.\n",
      "Try using .loc[row_indexer,col_indexer] = value instead\n",
      "\n",
      "See the caveats in the documentation: https://pandas.pydata.org/pandas-docs/stable/user_guide/indexing.html#returning-a-view-versus-a-copy\n",
      "  france_df[\"Quantity_Anomaly\"] = france_df[\"Quantity\"].apply(\n",
      "C:\\Users\\LIMI\\AppData\\Local\\Temp\\ipykernel_21784\\2831527807.py:7: SettingWithCopyWarning: \n",
      "A value is trying to be set on a copy of a slice from a DataFrame.\n",
      "Try using .loc[row_indexer,col_indexer] = value instead\n",
      "\n",
      "See the caveats in the documentation: https://pandas.pydata.org/pandas-docs/stable/user_guide/indexing.html#returning-a-view-versus-a-copy\n",
      "  france_df[\"UnitPrice_Anomaly\"] = france_df[\"UnitPrice\"].apply(\n",
      "C:\\Users\\LIMI\\AppData\\Local\\Temp\\ipykernel_21784\\2831527807.py:12: SettingWithCopyWarning: \n",
      "A value is trying to be set on a copy of a slice from a DataFrame.\n",
      "Try using .loc[row_indexer,col_indexer] = value instead\n",
      "\n",
      "See the caveats in the documentation: https://pandas.pydata.org/pandas-docs/stable/user_guide/indexing.html#returning-a-view-versus-a-copy\n",
      "  france_df[\"TotalAmount_Anomaly\"] = france_df[\"TotalAmount\"].apply(\n"
     ]
    }
   ],
   "source": [
    "# Mark Quantity anomalies for France\n",
    "france_df[\"Quantity_Anomaly\"] = france_df[\"Quantity\"].apply(\n",
    "    lambda x: 1 if x < lower_bound_quantity_fr or x > upper_bound_quantity_fr else 0\n",
    ")\n",
    "\n",
    "# Mark UnitPrice anomalies for France\n",
    "france_df[\"UnitPrice_Anomaly\"] = france_df[\"UnitPrice\"].apply(\n",
    "    lambda x: 1 if x < lower_bound_price_fr or x > upper_bound_price_fr else 0\n",
    ")\n",
    "\n",
    "# Mark TotalAmount anomalies for France\n",
    "france_df[\"TotalAmount_Anomaly\"] = france_df[\"TotalAmount\"].apply(\n",
    "    lambda x: 1 if x < lower_bound_amount_fr or x > upper_bound_amount_fr else 0\n",
    ")\n"
   ]
  },
  {
   "cell_type": "code",
   "execution_count": 10,
   "id": "3355700a",
   "metadata": {
    "scrolled": true
   },
   "outputs": [
    {
     "name": "stdout",
     "output_type": "stream",
     "text": [
      "Quantity_Anomaly       476\n",
      "UnitPrice_Anomaly      486\n",
      "TotalAmount_Anomaly    460\n",
      "dtype: int64\n"
     ]
    }
   ],
   "source": [
    "# Summarize anomaly flags for France\n",
    "france_anomaly_summary = france_df[\n",
    "    [\"Quantity_Anomaly\", \"UnitPrice_Anomaly\", \"TotalAmount_Anomaly\"]\n",
    "].sum()\n",
    "\n",
    "print(france_anomaly_summary)\n"
   ]
  },
  {
   "cell_type": "markdown",
   "id": "cc2f8e5d",
   "metadata": {},
   "source": [
    "Here we have screened for outliers, and they are all close in number, next we look to see if they occur at the same time"
   ]
  },
  {
   "cell_type": "code",
   "execution_count": 11,
   "id": "0fc72567",
   "metadata": {
    "scrolled": true
   },
   "outputs": [
    {
     "name": "stdout",
     "output_type": "stream",
     "text": [
      "       InvoiceNo StockCode                          Description  Quantity  \\\n",
      "26        536370     22728            ALARM CLOCK BAKELIKE PINK        24   \n",
      "27        536370     22727            ALARM CLOCK BAKELIKE RED         24   \n",
      "34        536370     22326  ROUND SNACK BOXES SET OF4 WOODLAND         24   \n",
      "40        536370     22900      SET 2 TEA TOWELS I LOVE LONDON         24   \n",
      "7894      537065     22968           ROSE COTTAGE KEEPSAKE BOX          8   \n",
      "...          ...       ...                                  ...       ...   \n",
      "532710    580986      POST                              POSTAGE         4   \n",
      "532921    581001     23480       MINI LIGHTS WOODLAND MUSHROOMS        32   \n",
      "532935    581001     22728            ALARM CLOCK BAKELIKE PINK        18   \n",
      "532936    581001     22726           ALARM CLOCK BAKELIKE GREEN        24   \n",
      "537461    581279     22423             REGENCY CAKESTAND 3 TIER         6   \n",
      "\n",
      "            InvoiceDate  UnitPrice  CustomerID Country  TotalAmount  \\\n",
      "26       12/1/2010 8:45       3.75     12583.0  France         90.0   \n",
      "27       12/1/2010 8:45       3.75     12583.0  France         90.0   \n",
      "34       12/1/2010 8:45       2.95     12583.0  France         70.8   \n",
      "40       12/1/2010 8:45       2.95     12583.0  France         70.8   \n",
      "7894    12/5/2010 11:57       8.50     12567.0  France         68.0   \n",
      "...                 ...        ...         ...     ...          ...   \n",
      "532710  12/6/2011 16:34      18.00     12650.0  France         72.0   \n",
      "532921   12/7/2011 8:07       3.75     12583.0  France        120.0   \n",
      "532935   12/7/2011 8:07       3.75     12583.0  France         67.5   \n",
      "532936   12/7/2011 8:07       3.75     12583.0  France         90.0   \n",
      "537461  12/8/2011 11:35      12.75     12437.0  France         76.5   \n",
      "\n",
      "        Quantity_Anomaly  UnitPrice_Anomaly  TotalAmount_Anomaly  \n",
      "26                     0                  0                    1  \n",
      "27                     0                  0                    1  \n",
      "34                     0                  0                    1  \n",
      "40                     0                  0                    1  \n",
      "7894                   0                  0                    1  \n",
      "...                  ...                ...                  ...  \n",
      "532710                 0                  1                    1  \n",
      "532921                 0                  0                    1  \n",
      "532935                 0                  0                    1  \n",
      "532936                 0                  0                    1  \n",
      "537461                 0                  1                    1  \n",
      "\n",
      "[460 rows x 12 columns]\n"
     ]
    }
   ],
   "source": [
    "Quantity_Anomalies =  france_df[france_df[\"Quantity_Anomaly\"] == 1]\n",
    "UnitPrice_Anomalies =  france_df[france_df[\"UnitPrice_Anomaly\"] == 1]\n",
    "TotalAmount_Anomalies =  france_df[france_df[\"TotalAmount_Anomaly\"] == 1]\n",
    "\n",
    "print(TotalAmount_Anomalies)"
   ]
  },
  {
   "cell_type": "code",
   "execution_count": 12,
   "id": "1864caee",
   "metadata": {},
   "outputs": [
    {
     "name": "stdout",
     "output_type": "stream",
     "text": [
      "Rows where Quantity_Anomaly：476\n",
      "Rows where UnitPrice_Anomaly：486\n",
      "Rows where both anomalies：0\n"
     ]
    }
   ],
   "source": [
    "# Filtering for simultaneous = 1 for Quantity_Anomaly and UnitPrice_Anomaly\n",
    "\n",
    "\n",
    "print(f\"Rows where Quantity_Anomaly：{france_df[france_df['Quantity_Anomaly'] == 1].shape[0]}\")\n",
    "print(f\"Rows where UnitPrice_Anomaly：{france_df[france_df['UnitPrice_Anomaly'] == 1].shape[0]}\")\n",
    "\n",
    "intersection = france_df[\n",
    "    (france_df[\"Quantity_Anomaly\"] == 1) & \n",
    "    (france_df[\"UnitPrice_Anomaly\"] == 1)\n",
    "]\n",
    "print(f\"Rows where both anomalies：{intersection.shape[0]}\")"
   ]
  },
  {
   "cell_type": "markdown",
   "id": "2dd5785d",
   "metadata": {},
   "source": [
    "Unfortunately we didn't find any times when both Quantities and UnitPrice were detected as outliers. So next we will discuss them separately. Next, we gonna use box plot to see the anomalies' distribution. "
   ]
  },
  {
   "cell_type": "code",
   "execution_count": 13,
   "id": "3ec8e224",
   "metadata": {
    "scrolled": false
   },
   "outputs": [
    {
     "data": {
      "image/png": "[encoded data removed]",
      "text/plain": [
       "<Figure size 1800x600 with 3 Axes>"
      ]
     },
     "metadata": {},
     "output_type": "display_data"
    }
   ],
   "source": [
    "# see the Anomalies. \n",
    "\n",
    "fig, axes = plt.subplots(1, 3, figsize=(18, 6)) \n",
    "\n",
    "# Quantity \n",
    "sns.boxplot(y=Quantity_Anomalies[\"Quantity\"], ax=axes[1], color='blue')\n",
    "axes[1].set_title(\"Box Plot of Quantity\", fontsize=14)\n",
    "axes[1].set_ylabel(\"Quantity\", fontsize=12)\n",
    "axes[1].set_xlabel(\"\")\n",
    "\n",
    "# UnitPrice \n",
    "sns.boxplot(y=UnitPrice_Anomalies[\"UnitPrice\"], ax=axes[0], color='red')\n",
    "axes[0].set_title(\"Box Plot of UnitPrice\", fontsize=14)\n",
    "axes[0].set_ylabel(\"UnitPrice\", fontsize=12)\n",
    "axes[0].set_xlabel(\"\")\n",
    "\n",
    "\n",
    "# TotalAmount \n",
    "sns.boxplot(y=TotalAmount_Anomalies[\"TotalAmount\"], ax=axes[2], color='green')\n",
    "axes[2].set_title(\"Box Plot of TotalAmount\", fontsize=14)\n",
    "axes[2].set_ylabel(\"TotalAmount\", fontsize=12)\n",
    "axes[2].set_xlabel(\"\")\n",
    "\n",
    "\n",
    "plt.tight_layout()\n",
    "plt.show()"
   ]
  },
  {
   "cell_type": "code",
   "execution_count": 27,
   "id": "4e813c86",
   "metadata": {},
   "outputs": [
    {
     "name": "stdout",
     "output_type": "stream",
     "text": [
      "       InvoiceNo StockCode Description  Quantity       InvoiceDate  UnitPrice  \\\n",
      "422351    573077         M      Manual         1  10/27/2011 14:13    4161.06   \n",
      "422375   C573079         M      Manual        -2  10/27/2011 14:15    4161.06   \n",
      "422376    573080         M      Manual         1  10/27/2011 14:20    4161.06   \n",
      "\n",
      "        CustomerID Country  TotalAmount  Quantity_Anomaly  UnitPrice_Anomaly  \\\n",
      "422351     12536.0  France      4161.06                 0                  1   \n",
      "422375     12536.0  France     -8322.12                 0                  1   \n",
      "422376     12536.0  France      4161.06                 0                  1   \n",
      "\n",
      "        TotalAmount_Anomaly  \n",
      "422351                    1  \n",
      "422375                    1  \n",
      "422376                    1  \n"
     ]
    }
   ],
   "source": [
    "# check the high price information\n",
    "UnitPrice_high = UnitPrice_Anomalies[UnitPrice_Anomalies[\"UnitPrice\"] > 4000]\n",
    "print(UnitPrice_high)"
   ]
  },
  {
   "cell_type": "markdown",
   "id": "e2fd5797",
   "metadata": {},
   "source": [
    "We should pay more attention on UnitPrice which equals to 0. Perhaps items may be given away as complimentary gifts (e.g. buy one get one free, trial packs, etc.) An interesting thing is one customer purchased these very high price item twice, but this customer also returned these two items. We suggest that the manager should pay more attention on this and do the customer survey on time to figure out the reason. \n",
    "\n",
    "In terms of Quantity, the huge postive values might mean that those are very popular items or explosive item. The mall can prepare some more, Anomaly detection can also help malls determine what the best-selling products are. Quantity < 0 might means the items are returned back or the orders cancelled. So in this part, malls can check after-sales service based on this part of the order. \n",
    "\n",
    "In terms of TotalAmount, Shopping malls can adjust their sales strategies based on these filtered 'anomalies'. \n",
    "\n",
    "Next, we can see the whole information in Quantity_Anomalies, UnitPrice_Anomalies and TotalAmount_Anomalies. "
   ]
  },
  {
   "cell_type": "code",
   "execution_count": 14,
   "id": "bfd96f5e",
   "metadata": {},
   "outputs": [
    {
     "data": {
      "text/html": [
       "<div>\n",
       "<style scoped>\n",
       "    .dataframe tbody tr th:only-of-type {\n",
       "        vertical-align: middle;\n",
       "    }\n",
       "\n",
       "    .dataframe tbody tr th {\n",
       "        vertical-align: top;\n",
       "    }\n",
       "\n",
       "    .dataframe thead th {\n",
       "        text-align: right;\n",
       "    }\n",
       "</style>\n",
       "<table border=\"1\" class=\"dataframe\">\n",
       "  <thead>\n",
       "    <tr style=\"text-align: right;\">\n",
       "      <th></th>\n",
       "      <th>InvoiceNo</th>\n",
       "      <th>StockCode</th>\n",
       "      <th>Description</th>\n",
       "      <th>Quantity</th>\n",
       "      <th>InvoiceDate</th>\n",
       "      <th>UnitPrice</th>\n",
       "      <th>CustomerID</th>\n",
       "      <th>Country</th>\n",
       "      <th>TotalAmount</th>\n",
       "      <th>Quantity_Anomaly</th>\n",
       "      <th>UnitPrice_Anomaly</th>\n",
       "      <th>TotalAmount_Anomaly</th>\n",
       "    </tr>\n",
       "  </thead>\n",
       "  <tbody>\n",
       "    <tr>\n",
       "      <th>31</th>\n",
       "      <td>536370</td>\n",
       "      <td>10002</td>\n",
       "      <td>INFLATABLE POLITICAL GLOBE</td>\n",
       "      <td>48</td>\n",
       "      <td>12/1/2010 8:45</td>\n",
       "      <td>0.85</td>\n",
       "      <td>12583.0</td>\n",
       "      <td>France</td>\n",
       "      <td>40.80</td>\n",
       "      <td>1</td>\n",
       "      <td>0</td>\n",
       "      <td>0</td>\n",
       "    </tr>\n",
       "    <tr>\n",
       "      <th>44</th>\n",
       "      <td>536370</td>\n",
       "      <td>22492</td>\n",
       "      <td>MINI PAINT SET VINTAGE</td>\n",
       "      <td>36</td>\n",
       "      <td>12/1/2010 8:45</td>\n",
       "      <td>0.65</td>\n",
       "      <td>12583.0</td>\n",
       "      <td>France</td>\n",
       "      <td>23.40</td>\n",
       "      <td>1</td>\n",
       "      <td>0</td>\n",
       "      <td>0</td>\n",
       "    </tr>\n",
       "    <tr>\n",
       "      <th>7943</th>\n",
       "      <td>537065</td>\n",
       "      <td>21829</td>\n",
       "      <td>DINOSAUR KEYRINGS ASSORTED</td>\n",
       "      <td>36</td>\n",
       "      <td>12/5/2010 11:57</td>\n",
       "      <td>0.21</td>\n",
       "      <td>12567.0</td>\n",
       "      <td>France</td>\n",
       "      <td>7.56</td>\n",
       "      <td>1</td>\n",
       "      <td>0</td>\n",
       "      <td>0</td>\n",
       "    </tr>\n",
       "    <tr>\n",
       "      <th>14156</th>\n",
       "      <td>537463</td>\n",
       "      <td>22467</td>\n",
       "      <td>GUMBALL COAT RACK</td>\n",
       "      <td>36</td>\n",
       "      <td>12/7/2010 10:08</td>\n",
       "      <td>2.10</td>\n",
       "      <td>12681.0</td>\n",
       "      <td>France</td>\n",
       "      <td>75.60</td>\n",
       "      <td>1</td>\n",
       "      <td>0</td>\n",
       "      <td>1</td>\n",
       "    </tr>\n",
       "    <tr>\n",
       "      <th>14160</th>\n",
       "      <td>537463</td>\n",
       "      <td>22348</td>\n",
       "      <td>TEA BAG PLATE RED RETROSPOT</td>\n",
       "      <td>36</td>\n",
       "      <td>12/7/2010 10:08</td>\n",
       "      <td>0.85</td>\n",
       "      <td>12681.0</td>\n",
       "      <td>France</td>\n",
       "      <td>30.60</td>\n",
       "      <td>1</td>\n",
       "      <td>0</td>\n",
       "      <td>0</td>\n",
       "    </tr>\n",
       "    <tr>\n",
       "      <th>...</th>\n",
       "      <td>...</td>\n",
       "      <td>...</td>\n",
       "      <td>...</td>\n",
       "      <td>...</td>\n",
       "      <td>...</td>\n",
       "      <td>...</td>\n",
       "      <td>...</td>\n",
       "      <td>...</td>\n",
       "      <td>...</td>\n",
       "      <td>...</td>\n",
       "      <td>...</td>\n",
       "      <td>...</td>\n",
       "    </tr>\n",
       "    <tr>\n",
       "      <th>527342</th>\n",
       "      <td>580705</td>\n",
       "      <td>22437</td>\n",
       "      <td>SET OF 9 BLACK SKULL BALLOONS</td>\n",
       "      <td>40</td>\n",
       "      <td>12/5/2011 16:28</td>\n",
       "      <td>0.85</td>\n",
       "      <td>12683.0</td>\n",
       "      <td>France</td>\n",
       "      <td>34.00</td>\n",
       "      <td>1</td>\n",
       "      <td>0</td>\n",
       "      <td>0</td>\n",
       "    </tr>\n",
       "    <tr>\n",
       "      <th>529621</th>\n",
       "      <td>580736</td>\n",
       "      <td>22610</td>\n",
       "      <td>PENS ASSORTED FUNNY FACE</td>\n",
       "      <td>36</td>\n",
       "      <td>12/6/2011 8:55</td>\n",
       "      <td>0.19</td>\n",
       "      <td>12716.0</td>\n",
       "      <td>France</td>\n",
       "      <td>6.84</td>\n",
       "      <td>1</td>\n",
       "      <td>0</td>\n",
       "      <td>0</td>\n",
       "    </tr>\n",
       "    <tr>\n",
       "      <th>532919</th>\n",
       "      <td>581001</td>\n",
       "      <td>22540</td>\n",
       "      <td>MINI JIGSAW CIRCUS PARADE</td>\n",
       "      <td>48</td>\n",
       "      <td>12/7/2011 8:07</td>\n",
       "      <td>0.19</td>\n",
       "      <td>12583.0</td>\n",
       "      <td>France</td>\n",
       "      <td>9.12</td>\n",
       "      <td>1</td>\n",
       "      <td>0</td>\n",
       "      <td>0</td>\n",
       "    </tr>\n",
       "    <tr>\n",
       "      <th>532920</th>\n",
       "      <td>581001</td>\n",
       "      <td>22544</td>\n",
       "      <td>MINI JIGSAW SPACEBOY</td>\n",
       "      <td>48</td>\n",
       "      <td>12/7/2011 8:07</td>\n",
       "      <td>0.19</td>\n",
       "      <td>12583.0</td>\n",
       "      <td>France</td>\n",
       "      <td>9.12</td>\n",
       "      <td>1</td>\n",
       "      <td>0</td>\n",
       "      <td>0</td>\n",
       "    </tr>\n",
       "    <tr>\n",
       "      <th>534797</th>\n",
       "      <td>581171</td>\n",
       "      <td>84077</td>\n",
       "      <td>WORLD WAR 2 GLIDERS ASSTD DESIGNS</td>\n",
       "      <td>48</td>\n",
       "      <td>12/7/2011 15:02</td>\n",
       "      <td>0.29</td>\n",
       "      <td>12615.0</td>\n",
       "      <td>France</td>\n",
       "      <td>13.92</td>\n",
       "      <td>1</td>\n",
       "      <td>0</td>\n",
       "      <td>0</td>\n",
       "    </tr>\n",
       "  </tbody>\n",
       "</table>\n",
       "<p>476 rows × 12 columns</p>\n",
       "</div>"
      ],
      "text/plain": [
       "       InvoiceNo StockCode                        Description  Quantity  \\\n",
       "31        536370     10002        INFLATABLE POLITICAL GLOBE         48   \n",
       "44        536370     22492            MINI PAINT SET VINTAGE         36   \n",
       "7943      537065     21829         DINOSAUR KEYRINGS ASSORTED        36   \n",
       "14156     537463     22467                  GUMBALL COAT RACK        36   \n",
       "14160     537463     22348        TEA BAG PLATE RED RETROSPOT        36   \n",
       "...          ...       ...                                ...       ...   \n",
       "527342    580705     22437      SET OF 9 BLACK SKULL BALLOONS        40   \n",
       "529621    580736     22610           PENS ASSORTED FUNNY FACE        36   \n",
       "532919    581001     22540         MINI JIGSAW CIRCUS PARADE         48   \n",
       "532920    581001     22544               MINI JIGSAW SPACEBOY        48   \n",
       "534797    581171     84077  WORLD WAR 2 GLIDERS ASSTD DESIGNS        48   \n",
       "\n",
       "            InvoiceDate  UnitPrice  CustomerID Country  TotalAmount  \\\n",
       "31       12/1/2010 8:45       0.85     12583.0  France        40.80   \n",
       "44       12/1/2010 8:45       0.65     12583.0  France        23.40   \n",
       "7943    12/5/2010 11:57       0.21     12567.0  France         7.56   \n",
       "14156   12/7/2010 10:08       2.10     12681.0  France        75.60   \n",
       "14160   12/7/2010 10:08       0.85     12681.0  France        30.60   \n",
       "...                 ...        ...         ...     ...          ...   \n",
       "527342  12/5/2011 16:28       0.85     12683.0  France        34.00   \n",
       "529621   12/6/2011 8:55       0.19     12716.0  France         6.84   \n",
       "532919   12/7/2011 8:07       0.19     12583.0  France         9.12   \n",
       "532920   12/7/2011 8:07       0.19     12583.0  France         9.12   \n",
       "534797  12/7/2011 15:02       0.29     12615.0  France        13.92   \n",
       "\n",
       "        Quantity_Anomaly  UnitPrice_Anomaly  TotalAmount_Anomaly  \n",
       "31                     1                  0                    0  \n",
       "44                     1                  0                    0  \n",
       "7943                   1                  0                    0  \n",
       "14156                  1                  0                    1  \n",
       "14160                  1                  0                    0  \n",
       "...                  ...                ...                  ...  \n",
       "527342                 1                  0                    0  \n",
       "529621                 1                  0                    0  \n",
       "532919                 1                  0                    0  \n",
       "532920                 1                  0                    0  \n",
       "534797                 1                  0                    0  \n",
       "\n",
       "[476 rows x 12 columns]"
      ]
     },
     "execution_count": 14,
     "metadata": {},
     "output_type": "execute_result"
    }
   ],
   "source": [
    "Quantity_Anomalies"
   ]
  },
  {
   "cell_type": "code",
   "execution_count": null,
   "id": "a461976d",
   "metadata": {},
   "outputs": [],
   "source": []
  },
  {
   "cell_type": "markdown",
   "id": "91d1930d",
   "metadata": {},
   "source": []
  },
  {
   "cell_type": "code",
   "execution_count": null,
   "id": "1be95a37",
   "metadata": {},
   "outputs": [],
   "source": []
  },
  {
   "cell_type": "code",
   "execution_count": null,
   "id": "302c9b22",
   "metadata": {},
   "outputs": [],
   "source": []
  },
  {
   "cell_type": "code",
   "execution_count": null,
   "id": "539bf19c",
   "metadata": {},
   "outputs": [],
   "source": []
  },
  {
   "cell_type": "code",
   "execution_count": null,
   "id": "14c409aa",
   "metadata": {},
   "outputs": [],
   "source": []
  }
 ],
 "metadata": {
  "kernelspec": {
   "display_name": "Python 3 (ipykernel)",
   "language": "python",
   "name": "python3"
  },
  "language_info": {
   "codemirror_mode": {
    "name": "ipython",
    "version": 3
   },
   "file_extension": ".py",
   "mimetype": "text/x-python",
   "name": "python",
   "nbconvert_exporter": "python",
   "pygments_lexer": "ipython3",
   "version": "3.10.9"
  }
 },
 "nbformat": 4,
 "nbformat_minor": 5
}
